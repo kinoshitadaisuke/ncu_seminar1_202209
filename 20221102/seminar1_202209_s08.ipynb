{
 "cells": [
  {
   "cell_type": "markdown",
   "id": "162a3825-714e-4c16-8be0-f551045811b5",
   "metadata": {},
   "source": [
    "# Seminar 1 #\n",
    "\n",
    "This is a course material for the course \"Seminar 1\" on 09/Nov/2022.\n",
    "\n",
    "GitHub repository: https://github.com/kinoshitadaisuke/ncu_seminar1_202209\n"
   ]
  },
  {
   "cell_type": "markdown",
   "id": "085842da-e853-4e57-a40e-579b2eeee8de",
   "metadata": {},
   "source": [
    "# IMPORTANT!!! #\n",
    "\n",
    "Ask a question if you find any difficulty.\n",
    "\n",
    "If you are not active in the classroom today, what you get from today's session is very limited."
   ]
  },
  {
   "cell_type": "markdown",
   "id": "5775e820-2a32-47db-8f8b-9419320852d7",
   "metadata": {},
   "source": [
    "# Exercise 1 #\n",
    "\n",
    "Go to Simbad website.\n",
    "\n",
    "https://simbad.unistra.fr/simbad/\n",
    "\n",
    "Find RA and Dec (J2000) of Betelgeuse."
   ]
  },
  {
   "cell_type": "code",
   "execution_count": 1,
   "id": "b5d5faef-ec5b-493c-ab42-3a7f351076a9",
   "metadata": {},
   "outputs": [],
   "source": [
    "#\n",
    "# Write down your answer for Exercise 1\n",
    "#\n",
    "\n",
    "# RA and Dec (J2000) of Betelgeuse\n",
    "#    RA  = .....\n",
    "#    Dec = ....."
   ]
  },
  {
   "cell_type": "markdown",
   "id": "c4aa0942-fa2e-46fc-af8d-54de22e63fe2",
   "metadata": {},
   "source": [
    "# Exercise 2 #\n",
    "\n",
    "Read folloing.\n",
    "\n",
    "https://docs.astropy.org/en/stable/coordinates/\n",
    "\n",
    "Create a SkyCoord object for Betelgeuse."
   ]
  },
  {
   "cell_type": "code",
   "execution_count": 2,
   "id": "0426bafb-6cc7-44ca-b68b-e1396810706e",
   "metadata": {},
   "outputs": [],
   "source": [
    "#\n",
    "# Write down your Python script for Exercise 2 here and run the cell\n",
    "#\n"
   ]
  },
  {
   "cell_type": "markdown",
   "id": "8a51a20c-dbd7-46e7-b044-51d9e0fe22f3",
   "metadata": {},
   "source": [
    "# Exercise 3 #\n",
    "\n",
    "Read following.\n",
    "\n",
    "https://docs.astropy.org/en/stable/coordinates/#coordinate-access\n",
    "\n",
    "Print RA and Dec of Betelgeuse in decimal degree format using the SkyCoord object you have created."
   ]
  },
  {
   "cell_type": "code",
   "execution_count": 3,
   "id": "e1abb1d9-42b1-415d-b075-009fd73524f3",
   "metadata": {},
   "outputs": [],
   "source": [
    "#\n",
    "# Write down your Python script for Exercise 3 here and run the cell\n",
    "#\n"
   ]
  },
  {
   "cell_type": "markdown",
   "id": "f63679f6-9a1f-4870-9de6-c1bc9bc57228",
   "metadata": {},
   "source": [
    "# Exercise 4 #\n",
    "\n",
    "Read following.\n",
    "\n",
    "https://docs.astropy.org/en/stable/coordinates/#transformation\n",
    "\n",
    "Print Galactic longitude and latitude of Betelgeuse using the SkyCoord object you have created."
   ]
  },
  {
   "cell_type": "code",
   "execution_count": 4,
   "id": "f463733c-648f-42e6-84d5-71477ab05869",
   "metadata": {},
   "outputs": [],
   "source": [
    "#\n",
    "# Write down your Python script for Exercise 4 here and run the cell\n",
    "#\n"
   ]
  },
  {
   "cell_type": "markdown",
   "id": "3ae3e530-98f2-49d8-b908-47e8352cfc1c",
   "metadata": {},
   "source": [
    "# Exercise 5 #\n",
    "\n",
    "Read following.\n",
    "\n",
    "https://docs.astropy.org/en/stable/coordinates/#convenience-methods\n",
    "https://docs.astropy.org/en/stable/generated/examples/coordinates/plot_obs-planning.html\n",
    "https://docs.astropy.org/en/stable/api/astropy.coordinates.EarthLocation.html\n",
    "\n",
    "Make a EarthLocation object for Mauna Kea, Hawaii."
   ]
  },
  {
   "cell_type": "code",
   "execution_count": 5,
   "id": "9dda6e3b-277b-4b44-bfc7-12a0e28dac12",
   "metadata": {},
   "outputs": [],
   "source": [
    "#\n",
    "# Write down your Python script for Exercise 5 here and run the cell\n",
    "#\n"
   ]
  },
  {
   "cell_type": "markdown",
   "id": "e12daf06-c7c4-469d-a23a-0e8d979c2d9d",
   "metadata": {},
   "source": [
    "# Exercise 6 #\n",
    "\n",
    "Read following.\n",
    "\n",
    "https://docs.astropy.org/en/stable/time/\n",
    "\n",
    "Make a Time object for 12:00:00 (UT) on 09/Nov/2022."
   ]
  },
  {
   "cell_type": "code",
   "execution_count": 6,
   "id": "f6500f1e-2bb6-4cfe-8414-054d7624dcfe",
   "metadata": {},
   "outputs": [],
   "source": [
    "#\n",
    "# Write down your Python script for Exercise 6 here and run the cell\n",
    "#\n"
   ]
  },
  {
   "cell_type": "markdown",
   "id": "fbdce87f-cf61-4554-beca-934e75a0810a",
   "metadata": {},
   "source": [
    "# Exercise 7 #\n",
    "\n",
    "Read following.\n",
    "\n",
    "https://docs.astropy.org/en/stable/generated/examples/coordinates/plot_obs-planning.html\n",
    "\n",
    "Calculate the position of Betelgeuse in horizontal coordinate system at Mauna Kea on 12:00:00 (UT) on 09/Nov/2022. Print altitude and azimuth of Betelgeuse."
   ]
  },
  {
   "cell_type": "code",
   "execution_count": 7,
   "id": "8ad2315f-9c19-403a-8888-904bf0127fbe",
   "metadata": {},
   "outputs": [],
   "source": [
    "#\n",
    "# Write down your Python script for Exercise 7 here and run the cell\n",
    "#\n"
   ]
  },
  {
   "cell_type": "markdown",
   "id": "01f18622-c7e3-4d1b-bff5-e9e5425b57ae",
   "metadata": {},
   "source": [
    "# Exercise 8 #\n",
    "\n",
    "Read following.\n",
    "\n",
    "https://docs.astropy.org/en/stable/generated/examples/coordinates/plot_obs-planning.html\n",
    "\n",
    "Calculate the position of the Southern Cross at Lulin Observatory on 16:00:00 (UT) on 25/Mar/2023. Print altitude and azimuth of the Southern Cross.\n",
    "\n",
    "Are we able to see the Southern Cross at Lulin Observatory?"
   ]
  },
  {
   "cell_type": "code",
   "execution_count": 8,
   "id": "5fc99add-507a-4081-9f84-64b0b92de0ec",
   "metadata": {},
   "outputs": [],
   "source": [
    "#\n",
    "# Write down your Python script for Exercise 8 here and run the cell\n",
    "#\n"
   ]
  },
  {
   "cell_type": "markdown",
   "id": "0ca3a293-6a90-4e39-8742-832a33249170",
   "metadata": {},
   "source": [
    "# Exercise 9 #\n",
    "\n",
    "Read following.\n",
    "\n",
    "https://docs.astropy.org/en/stable/coordinates/solarsystem.html\n",
    "\n",
    "Find RA and Dec of the Sun at 12:00:00 (UT) on 09/Nov/2022 as observed at NCU main campus.\n",
    "\n",
    "Find altitude and azimuth of the Sun at that time."
   ]
  },
  {
   "cell_type": "code",
   "execution_count": 9,
   "id": "87ba6bc1-c8af-4846-9767-dcbd11e811fa",
   "metadata": {},
   "outputs": [],
   "source": [
    "#\n",
    "# Write down your Python script for Exercise 9 here and run the cell\n",
    "#\n"
   ]
  },
  {
   "cell_type": "markdown",
   "id": "3c364654-1975-4f75-81b5-7797beaeee90",
   "metadata": {},
   "source": [
    "# Exercise 10 #\n",
    "\n",
    "Find the RA and Dec of the Galactic Centre."
   ]
  },
  {
   "cell_type": "code",
   "execution_count": 10,
   "id": "da9d8fae-cd95-4483-87ec-d88821b7b493",
   "metadata": {},
   "outputs": [],
   "source": [
    "#\n",
    "# Write down your Python script for Exercise 10 here and run the cell\n",
    "#\n"
   ]
  },
  {
   "cell_type": "markdown",
   "id": "29361e5d-d7c8-4b80-9421-c99a480f1c70",
   "metadata": {},
   "source": [
    "# End of this notebook #"
   ]
  },
  {
   "cell_type": "code",
   "execution_count": null,
   "id": "78d17bec-9dba-48a5-90aa-728c205a65e0",
   "metadata": {},
   "outputs": [],
   "source": []
  }
 ],
 "metadata": {
  "kernelspec": {
   "display_name": "Python 3 (ipykernel)",
   "language": "python",
   "name": "python3"
  },
  "language_info": {
   "codemirror_mode": {
    "name": "ipython",
    "version": 3
   },
   "file_extension": ".py",
   "mimetype": "text/x-python",
   "name": "python",
   "nbconvert_exporter": "python",
   "pygments_lexer": "ipython3",
   "version": "3.9.13"
  }
 },
 "nbformat": 4,
 "nbformat_minor": 5
}
